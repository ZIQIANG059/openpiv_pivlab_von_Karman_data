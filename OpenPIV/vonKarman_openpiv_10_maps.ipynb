{
 "cells": [
  {
   "cell_type": "markdown",
   "metadata": {},
   "source": [
    "# compare the OpenPIV Python with PIVLab\n"
   ]
  },
  {
   "cell_type": "raw",
   "metadata": {},
   "source": [
    "Analysis of the Karman images\n",
    "final int area 6 pixels and 50% overlap, \n",
    "vector validation is allowed, but no smoothing after the last correlation. \n",
    "Only the circle in the middle must be masked, not the shadows.\n",
    "\n",
    "Then we can compare the vorticity maps (color bar scale of uncalibrated data -0.3 1/frame until +0.3 1/frame, \n",
    "color map preferably \"parula\", but \"jet\" is also ok). That might give an idea about the \"quality\"...?"
   ]
  },
  {
   "cell_type": "raw",
   "metadata": {},
   "source": [
    "FFT window deformation\n",
    "Pass1: 64x64 px with 50% overlap\n",
    "Pass2: 32x32 px with 50% overlap\n",
    "Pass3: 16x16 px with 50% overlap\n",
    "Pass4: 6x6 px with 50% overlap\n",
    "Gauss2x3-point subpixel estimator\n",
    "Correlation quality: Extreme"
   ]
  },
  {
   "cell_type": "code",
   "execution_count": null,
   "metadata": {},
   "outputs": [],
   "source": [
    "%reload_ext watermark\n",
    "%watermark -v -m -p numpy,openpiv"
   ]
  },
  {
   "cell_type": "code",
   "execution_count": null,
   "metadata": {},
   "outputs": [],
   "source": [
    "from openpiv import windef\n",
    "from openpiv.windef import Settings\n",
    "from openpiv import tools, scaling, validation, filters, preprocess\n",
    "from openpiv.pyprocess import extended_search_area_piv, get_field_shape, get_coordinates\n",
    "from openpiv import smoothn\n",
    "from openpiv.preprocess import mask_coordinates\n",
    "\n",
    "import numpy as np\n",
    "import os\n",
    "from time import time\n",
    "import warnings\n",
    "\n",
    "\n",
    "import matplotlib.pyplot as plt\n",
    "%matplotlib inline\n",
    "\n",
    "import matplotlib\n",
    "matplotlib.rcParams['figure.figsize'] = (8.0, 6.0)\n"
   ]
  },
  {
   "cell_type": "code",
   "execution_count": null,
   "metadata": {},
   "outputs": [],
   "source": [
    "settings = Settings()\n",
    "\n",
    "# 'Data related settings'\n",
    "# Folder with the images to process\n",
    "settings.filepath_images = '../data/'\n",
    "# Folder for the outputs\n",
    "settings.save_path = '../OpenPIV_results/'\n",
    "# Root name of the output Folder for Result Files\n",
    "settings.save_folder_suffix = 'Test_1'\n",
    "# Format and Image Sequence\n",
    "settings.frame_pattern_a = 'karman_16Hz_000_A.jpg'\n",
    "settings.frame_pattern_b = 'karman_16Hz_000_B.jpg'\n",
    "\n",
    "'Region of interest'\n",
    "# (50,300,50,300) #Region of interest: (xmin,xmax,ymin,ymax) or 'full' for full image\n",
    "settings.ROI = 'full'\n",
    "# settings.ROI = (200,400,600,850)\n",
    "\n",
    "\n",
    "\n",
    "settings.deformation_method = 'symmetric' # or 'second image'\n",
    "\n",
    "\n",
    "settings.iterations = 4  # select the number of PIV passes\n",
    "\n",
    "# add the interrogation window size for each pass. \n",
    "# For the moment, it should be a power of 2 \n",
    "settings.windowsizes=(64, 32, 16, 6)\n",
    "settings.overlap=(32, 16, 8, 3)\n",
    "\n",
    "# settings.windowsizes = (128, 64, 32, 16, 8) # if longer than n iteration the rest is ignored\n",
    "# The overlap of the interroagtion window for each pass.\n",
    "# settings.overlap = (64, 32, 16, 8, 4) # This is 50% overlap\n",
    "\n",
    "\n",
    "# Has to be a value with base two. In general window size/2 is a good choice.\n",
    "# methode used for subpixel interpolation: 'gaussian','centroid','parabolic'\n",
    "settings.subpixel_method = 'gaussian'\n",
    "\n",
    "# order of the image interpolation for the window deformation\n",
    "settings.interpolation_order = 1\n",
    "settings.scaling_factor = 1  # scaling factor pixel/meter\n",
    "settings.dt = 1  # time between to frames (in seconds)\n",
    "'Signal to noise ratio options (only for the last pass)'\n",
    "# It is possible to decide if the S/N should be computed (for the last pass) or not\n",
    "settings.extract_sig2noise = True  # 'True' or 'False' (only for the last pass)\n",
    "# method used to calculate the signal to noise ratio 'peak2peak' or 'peak2mean'\n",
    "settings.sig2noise_method = 'peak2peak'\n",
    "# select the width of the masked to masked out pixels next to the main peak\n",
    "settings.sig2noise_mask = 2\n",
    "# If extract_sig2noise==False the values in the signal to noise ratio\n",
    "# output column are set to NaN\n",
    "\n",
    "# only effecting the first pass of the interrogation the following passes\n",
    "# in the multipass will be validated\n",
    "\n",
    "'Output options'\n",
    "# Select if you want to save the plotted vectorfield: True or False\n",
    "settings.save_plot = False\n",
    "# Choose wether you want to see the vectorfield or not :True or False\n",
    "settings.show_plot = True\n",
    "settings.scale_plot = 200  # select a value to scale the quiver plot of the vectorfield\n",
    "# run the script with the given settings\n",
    "\n",
    "\n",
    "\n",
    "# 'Processing Parameters'\n",
    "settings.correlation_method='linear'  # 'circular' or 'linear'\n",
    "settings.normalized_correlation = True\n",
    "\n",
    "# 'vector validation options'\n",
    "# choose if you want to do validation of the first pass: True or False\n",
    "settings.validation_first_pass = True\n",
    "\n",
    "\n",
    "settings.filter_method = 'localmean'\n",
    "# maximum iterations performed to replace the outliers\n",
    "settings.max_filter_iteration = 10\n",
    "settings.filter_kernel_size = 3  # kernel size for the localmean method\n",
    "\n",
    "settings.replace_vectors = True\n",
    "\n",
    "settings.MinMax_U_disp = (-5, 5)\n",
    "settings.MinMax_V_disp = (-5, 5)\n",
    "\n",
    "# The second filter is based on the global STD threshold\n",
    "settings.std_threshold = 3  # threshold of the std validation\n",
    "\n",
    "# The third filter is the median test (not normalized at the moment)\n",
    "settings.median_threshold = 3  # threshold of the median validation\n",
    "# On the last iteration, an additional validation can be done based on the S/N.\n",
    "settings.median_size=1 #defines the size of the local median, it'll be 3 x 3\n",
    "\n",
    "\n",
    "settings.dynamic_masking_method = 'intensity'\n",
    "settings.dynamic_masking_threshold = 0.1\n",
    "settings.dynamic_masking_filter_size = 21\n",
    "\n",
    "# New settings for version 0.23.2c\n",
    "settings.image_mask = True\n",
    "\n",
    "# Smoothing after the first pass\n",
    "settings.smoothn=True #Enables smoothing of the displacemenet field\n",
    "settings.smoothn_p=0.5 # This is a smoothing parameter\n"
   ]
  },
  {
   "cell_type": "code",
   "execution_count": null,
   "metadata": {},
   "outputs": [],
   "source": [
    "import glob\n",
    "file_list = sorted(glob.glob('../data/karman_16Hz_*.jpg'))\n",
    "file_list = file_list[:20]\n",
    "file_list"
   ]
  },
  {
   "cell_type": "code",
   "execution_count": null,
   "metadata": {},
   "outputs": [],
   "source": [
    "N = 10\n",
    "counter = 0\n",
    "for a,b in zip(file_list[0:2*N+1:2],file_list[1:2*N+2:2]):\n",
    "    print(a,b)\n",
    "    settings.frame_pattern_a = a\n",
    "    settings.frame_pattern_b = b\n",
    "    settings.save_folder_suffix = f'{counter}'\n",
    "    windef.piv(settings)\n",
    "    counter += 1"
   ]
  }
 ],
 "metadata": {
  "jupytext": {
   "formats": "ipynb,py:percent"
  },
  "kernelspec": {
   "display_name": "Python [conda env:openpiv] *",
   "language": "python",
   "name": "conda-env-openpiv-py"
  },
  "language_info": {
   "codemirror_mode": {
    "name": "ipython",
    "version": 3
   },
   "file_extension": ".py",
   "mimetype": "text/x-python",
   "name": "python",
   "nbconvert_exporter": "python",
   "pygments_lexer": "ipython3",
   "version": "3.8.5"
  }
 },
 "nbformat": 4,
 "nbformat_minor": 4
}
