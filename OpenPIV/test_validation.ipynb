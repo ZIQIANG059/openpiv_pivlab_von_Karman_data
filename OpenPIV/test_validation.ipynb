{
 "cells": [
  {
   "cell_type": "code",
   "execution_count": null,
   "metadata": {},
   "outputs": [],
   "source": [
    "# test local median filter"
   ]
  },
  {
   "cell_type": "code",
   "execution_count": null,
   "metadata": {},
   "outputs": [],
   "source": [
    "from openpiv.validation import local_median_val"
   ]
  },
  {
   "cell_type": "code",
   "execution_count": null,
   "metadata": {},
   "outputs": [],
   "source": [
    "from scipy.ndimage import generic_filter, median_filter\n",
    "from scipy.signal import convolve2d\n",
    "import numpy as np\n",
    "import matplotlib.pyplot as plt"
   ]
  },
  {
   "cell_type": "code",
   "execution_count": null,
   "metadata": {},
   "outputs": [],
   "source": [
    "# local_median_val??"
   ]
  },
  {
   "cell_type": "code",
   "execution_count": null,
   "metadata": {},
   "outputs": [],
   "source": [
    "u_threshold = 3\n",
    "N = 2\n",
    "\n",
    "u = np.random.rand(2*N+1, 2*N+1)\n",
    "\n",
    "u[N,N] = np.median(u)*10\n",
    "\n",
    "print('mockup data')\n",
    "print(u)"
   ]
  },
  {
   "cell_type": "code",
   "execution_count": null,
   "metadata": {},
   "outputs": [],
   "source": [
    "# prepare two copies for comparison\n",
    "tmp = u.copy()\n",
    "\n",
    "# and masked array copy\n",
    "masked_u = np.ma.masked_array(u.copy(),np.ma.nomask)\n",
    "masked_u[N+1,N+1] = np.ma.masked\n",
    "print('masked version, see inf')\n",
    "print(masked_u.filled(np.inf))"
   ]
  },
  {
   "cell_type": "code",
   "execution_count": null,
   "metadata": {},
   "outputs": [],
   "source": [
    "size = 1\n",
    "f = np.ones((2*size+1, 2*size+1))\n",
    "f[size,size] = 0\n",
    "print(f)"
   ]
  },
  {
   "cell_type": "code",
   "execution_count": null,
   "metadata": {},
   "outputs": [],
   "source": [
    "# out = convolve2d(u, f, boundary='wrap', mode='same')/f.sum()\n",
    "out = median_filter(u,footprint=f)\n",
    "out"
   ]
  },
  {
   "cell_type": "code",
   "execution_count": null,
   "metadata": {},
   "outputs": [],
   "source": [
    "out2 = median_filter(u,size=2 * size + 1)\n",
    "out2"
   ]
  },
  {
   "cell_type": "code",
   "execution_count": null,
   "metadata": {},
   "outputs": [],
   "source": [
    "np.abs(u - out)"
   ]
  },
  {
   "cell_type": "code",
   "execution_count": null,
   "metadata": {},
   "outputs": [],
   "source": [
    "np.abs(u - out2)"
   ]
  },
  {
   "cell_type": "code",
   "execution_count": null,
   "metadata": {},
   "outputs": [],
   "source": [
    "# pcolor(u)"
   ]
  },
  {
   "cell_type": "code",
   "execution_count": null,
   "metadata": {},
   "outputs": [],
   "source": [
    "um = generic_filter(u,np.nanmedian,mode='constant',cval=np.nan,footprint=f)\n",
    "um"
   ]
  },
  {
   "cell_type": "code",
   "execution_count": null,
   "metadata": {},
   "outputs": [],
   "source": [
    "np.abs(u - um)"
   ]
  },
  {
   "cell_type": "code",
   "execution_count": null,
   "metadata": {},
   "outputs": [],
   "source": [
    "# pcolor(np.abs((u - um)))\n",
    "# colorbar()"
   ]
  },
  {
   "cell_type": "code",
   "execution_count": null,
   "metadata": {},
   "outputs": [],
   "source": [
    "ind = np.abs((u - um)) > u_threshold\n",
    "ind"
   ]
  },
  {
   "cell_type": "code",
   "execution_count": null,
   "metadata": {},
   "outputs": [],
   "source": [
    "u[ind] = np.nan\n",
    "u"
   ]
  },
  {
   "cell_type": "code",
   "execution_count": null,
   "metadata": {},
   "outputs": [],
   "source": [
    "mask = np.zeros(u.shape,dtype=bool)\n",
    "mask[ind] = True\n",
    "print(mask)"
   ]
  },
  {
   "cell_type": "code",
   "execution_count": null,
   "metadata": {},
   "outputs": [],
   "source": [
    "u1,u1,mask1 = local_median_val(tmp,tmp,3,3)\n",
    "\n",
    "print('data')\n",
    "print(u1)\n",
    "print('mask')\n",
    "print(mask1)"
   ]
  },
  {
   "cell_type": "code",
   "execution_count": null,
   "metadata": {},
   "outputs": [],
   "source": [
    "u2,u2,mask2 = local_median_val(masked_u.copy(),masked_u.copy(),3,3)\n",
    "\n",
    "print('data')\n",
    "print(u2.data)\n",
    "print('image mask')\n",
    "print(u2.mask)\n",
    "print('invalid vector mask')\n",
    "print(mask2)"
   ]
  },
  {
   "cell_type": "code",
   "execution_count": null,
   "metadata": {},
   "outputs": [],
   "source": [
    "print('Assert expected results')\n",
    "assert np.isnan(u[N,N])\n",
    "\n",
    "assert mask[N,N]\n",
    "\n",
    "assert np.isnan(u1[N,N])\n",
    "assert mask1[N,N]\n",
    "\n",
    "assert np.isnan(u2.data[N,N])\n",
    "assert mask2[N,N]\n",
    "assert u2.mask[N+1,N+1]"
   ]
  },
  {
   "cell_type": "code",
   "execution_count": null,
   "metadata": {},
   "outputs": [],
   "source": []
  }
 ],
 "metadata": {
  "kernelspec": {
   "display_name": "Python [conda env:openpiv] *",
   "language": "python",
   "name": "conda-env-openpiv-py"
  },
  "language_info": {
   "codemirror_mode": {
    "name": "ipython",
    "version": 3
   },
   "file_extension": ".py",
   "mimetype": "text/x-python",
   "name": "python",
   "nbconvert_exporter": "python",
   "pygments_lexer": "ipython3",
   "version": "3.8.5"
  }
 },
 "nbformat": 4,
 "nbformat_minor": 4
}
